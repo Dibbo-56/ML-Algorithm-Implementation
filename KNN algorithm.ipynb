{
 "cells": [
  {
   "cell_type": "markdown",
   "metadata": {},
   "source": [
    "# Importing modules and data"
   ]
  },
  {
   "cell_type": "code",
   "execution_count": 1,
   "metadata": {},
   "outputs": [
    {
     "data": {
      "text/html": [
       "<div>\n",
       "<style scoped>\n",
       "    .dataframe tbody tr th:only-of-type {\n",
       "        vertical-align: middle;\n",
       "    }\n",
       "\n",
       "    .dataframe tbody tr th {\n",
       "        vertical-align: top;\n",
       "    }\n",
       "\n",
       "    .dataframe thead th {\n",
       "        text-align: right;\n",
       "    }\n",
       "</style>\n",
       "<table border=\"1\" class=\"dataframe\">\n",
       "  <thead>\n",
       "    <tr style=\"text-align: right;\">\n",
       "      <th></th>\n",
       "      <th>sepal_length</th>\n",
       "      <th>sepal_width</th>\n",
       "      <th>petal_length</th>\n",
       "      <th>petal_width</th>\n",
       "      <th>variety</th>\n",
       "    </tr>\n",
       "  </thead>\n",
       "  <tbody>\n",
       "    <tr>\n",
       "      <th>0</th>\n",
       "      <td>5.1</td>\n",
       "      <td>3.5</td>\n",
       "      <td>1.4</td>\n",
       "      <td>0.2</td>\n",
       "      <td>Setosa</td>\n",
       "    </tr>\n",
       "    <tr>\n",
       "      <th>1</th>\n",
       "      <td>4.9</td>\n",
       "      <td>3.0</td>\n",
       "      <td>1.4</td>\n",
       "      <td>0.2</td>\n",
       "      <td>Setosa</td>\n",
       "    </tr>\n",
       "    <tr>\n",
       "      <th>2</th>\n",
       "      <td>4.7</td>\n",
       "      <td>3.2</td>\n",
       "      <td>1.3</td>\n",
       "      <td>0.2</td>\n",
       "      <td>Setosa</td>\n",
       "    </tr>\n",
       "    <tr>\n",
       "      <th>3</th>\n",
       "      <td>4.6</td>\n",
       "      <td>3.1</td>\n",
       "      <td>1.5</td>\n",
       "      <td>0.2</td>\n",
       "      <td>Setosa</td>\n",
       "    </tr>\n",
       "    <tr>\n",
       "      <th>4</th>\n",
       "      <td>5.0</td>\n",
       "      <td>3.6</td>\n",
       "      <td>1.4</td>\n",
       "      <td>0.2</td>\n",
       "      <td>Setosa</td>\n",
       "    </tr>\n",
       "  </tbody>\n",
       "</table>\n",
       "</div>"
      ],
      "text/plain": [
       "   sepal_length  sepal_width  petal_length  petal_width variety\n",
       "0           5.1          3.5           1.4          0.2  Setosa\n",
       "1           4.9          3.0           1.4          0.2  Setosa\n",
       "2           4.7          3.2           1.3          0.2  Setosa\n",
       "3           4.6          3.1           1.5          0.2  Setosa\n",
       "4           5.0          3.6           1.4          0.2  Setosa"
      ]
     },
     "execution_count": 1,
     "metadata": {},
     "output_type": "execute_result"
    }
   ],
   "source": [
    "import numpy as np\n",
    "import pandas as pd\n",
    "import matplotlib.pyplot as plt\n",
    "\n",
    "dataset = pd.read_csv('iris.csv')\n",
    "dataset.rename(columns = {'sepal.length':'sepal_length','sepal.width':'sepal_width',\n",
    "                          'petal.length':'petal_length','petal.width':'petal_width'},inplace=True)\n",
    "dataset.head(5)"
   ]
  },
  {
   "cell_type": "code",
   "execution_count": 2,
   "metadata": {},
   "outputs": [
    {
     "data": {
      "text/plain": [
       "array(['Setosa', 'Versicolor', 'Virginica'], dtype=object)"
      ]
     },
     "execution_count": 2,
     "metadata": {},
     "output_type": "execute_result"
    }
   ],
   "source": [
    "dataset['variety'].unique()"
   ]
  },
  {
   "cell_type": "code",
   "execution_count": 3,
   "metadata": {
    "collapsed": true
   },
   "outputs": [],
   "source": [
    "dataset['variety'] = dataset['variety'].replace(['Setosa','Versicolor','Virginica'],[1,2,3]) "
   ]
  },
  {
   "cell_type": "markdown",
   "metadata": {},
   "source": [
    "# Train/Test split"
   ]
  },
  {
   "cell_type": "code",
   "execution_count": 4,
   "metadata": {
    "collapsed": true
   },
   "outputs": [],
   "source": [
    "def train_test_split(x,y,train_split,test_split):\n",
    "    \n",
    "    idx = dataset.index.values.astype(int)\n",
    "\n",
    "    np.random.seed(5)  \n",
    "    np.random.shuffle(idx)\n",
    "\n",
    "    x_train = np.empty((0,4))\n",
    "    y_train = np.empty((0,0))\n",
    "    x_test = np.empty((0,4))\n",
    "    y_test = np.empty((0,0))\n",
    "\n",
    "    train_cnt = round(0.8*len(idx))\n",
    "    val_cnt = round(0.2*len(idx))\n",
    "   \n",
    "\n",
    "    for i in range(0,train_cnt):\n",
    "        x = np.array(dataset.iloc[idx[i],0:4])\n",
    "        x_train = np.append( x_train,[x],axis=0 )\n",
    "        y_train = np.append( y_train,dataset.iloc[idx[i],4] )\n",
    "\n",
    "    for i in range(train_cnt,len(idx)):\n",
    "        x = np.array(dataset.iloc[idx[i],0:4])\n",
    "        x_test = np.append(x_test,[x],axis=0 )\n",
    "        y_test = np.append(y_test,dataset.iloc[idx[i],4])\n",
    "    \n",
    "    return x_train,y_train,x_test,y_test  \n",
    "\n",
    "x,y = dataset.iloc[:,0:4],dataset.iloc[:,4]        \n",
    "train_split,test_split = 0.8,0.2\n",
    "x_train,y_train,x_test,y_test = train_test_split(x,y,train_split,test_split)"
   ]
  },
  {
   "cell_type": "markdown",
   "metadata": {},
   "source": [
    "# Euclidian Distance"
   ]
  },
  {
   "cell_type": "code",
   "execution_count": 5,
   "metadata": {
    "collapsed": true
   },
   "outputs": [],
   "source": [
    "def euclidian_distance(point1,point2):\n",
    "    distance = 0\n",
    "    for i in range(len(point1)):\n",
    "        distance += np.square(point1[i]-point2[i])\n",
    "    return distance"
   ]
  },
  {
   "cell_type": "markdown",
   "metadata": {},
   "source": [
    "# K Nearest Neighbors "
   ]
  },
  {
   "cell_type": "code",
   "execution_count": 6,
   "metadata": {
    "collapsed": true
   },
   "outputs": [],
   "source": [
    "def KNN(k):\n",
    "    result = np.array([])\n",
    "    for i in range(len(x_test)):\n",
    "        dis = np.empty((0,2))\n",
    "        for j in range(len(x_train)):\n",
    "            dis = np.append(dis,[[euclidian_distance(x_train[j],x_test[i]),j]],axis=0)\n",
    "        dis = dis[dis[:,0].argsort()]\n",
    "        one,two,three = 0,0,0\n",
    "        for j in range(k):\n",
    "            if(y_train[int(dis[j][1])] == 1):\n",
    "                one += 1\n",
    "            elif (y_train[int(dis[j][1])] == 2):\n",
    "                two += 1\n",
    "            else:\n",
    "                three += 1\n",
    "        if (one>two and one>three):\n",
    "            mx = 1\n",
    "        elif (two>one and two>three):\n",
    "            mx = 2\n",
    "        elif (three>one and three>two):\n",
    "            mx = 3\n",
    "        result = np.append(result,mx)\n",
    "    \n",
    "    return result\n",
    "\n",
    "            \n",
    "result = KNN(3)        "
   ]
  },
  {
   "cell_type": "code",
   "execution_count": 7,
   "metadata": {},
   "outputs": [
    {
     "name": "stdout",
     "output_type": "stream",
     "text": [
      "Accuracy 96.66666666666667\n"
     ]
    }
   ],
   "source": [
    "cnt = 0\n",
    "for i in range(len(result)):\n",
    "    if result[i]==y_test[i]:\n",
    "        cnt += 1\n",
    "\n",
    "print('Accuracy '+str((cnt/30)*100))\n"
   ]
  },
  {
   "cell_type": "code",
   "execution_count": null,
   "metadata": {
    "collapsed": true
   },
   "outputs": [],
   "source": []
  },
  {
   "cell_type": "code",
   "execution_count": null,
   "metadata": {
    "collapsed": true
   },
   "outputs": [],
   "source": []
  }
 ],
 "metadata": {
  "kernelspec": {
   "display_name": "Python 3",
   "language": "python",
   "name": "python3"
  },
  "language_info": {
   "codemirror_mode": {
    "name": "ipython",
    "version": 3
   },
   "file_extension": ".py",
   "mimetype": "text/x-python",
   "name": "python",
   "nbconvert_exporter": "python",
   "pygments_lexer": "ipython3",
   "version": "3.6.3"
  }
 },
 "nbformat": 4,
 "nbformat_minor": 2
}
